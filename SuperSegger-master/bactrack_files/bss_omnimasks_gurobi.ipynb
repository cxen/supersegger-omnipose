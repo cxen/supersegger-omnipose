{
 "cells": [
  {
   "cell_type": "code",
   "execution_count": 10,
   "id": "e27d4ac0-ad9a-4993-ad1b-ba0771439c03",
   "metadata": {},
   "outputs": [],
   "source": [
    "from bactrack.widget import get_hierarchies_from_masks_folder\n",
    "mask_dir = \"/home/tlo/Documents/Data/bactrack_test3/xy0/masks\"\n",
    "hier_arr = get_hierarchies_from_masks_folder(mask_dir)"
   ]
  },
  {
   "cell_type": "code",
   "execution_count": 11,
   "id": "0ecc4891-7ad4-49ef-a619-f5555099826e",
   "metadata": {},
   "outputs": [
    {
     "name": "stdout",
     "output_type": "stream",
     "text": [
      "2024-04-12 13:31:57,216 [INFO] Weight function start computing weight matrix\n",
      "2024-04-12 13:31:57,237 [INFO] Weight matrix computed, time consuming:0.019722700119018555 sec\n"
     ]
    }
   ],
   "source": [
    "from bactrack.tracking import OverlapWeight, IOUWeight, DistanceWeight\n",
    "w =  OverlapWeight(hier_arr)"
   ]
  },
  {
   "cell_type": "code",
   "execution_count": 12,
   "id": "6136c34b-1ff1-426e-988e-8f36f8c065dc",
   "metadata": {},
   "outputs": [
    {
     "name": "stdout",
     "output_type": "stream",
     "text": [
      "Set parameter Username\n",
      "Academic license - for non-commercial use only - expires 2025-03-12\n",
      "2024-04-12 13:31:58,324 [INFO] Setting up MIP problem\n",
      "2024-04-12 13:31:58,337 [INFO] MIP problem set up: time used 0.01183462142944336 sec\n",
      "Set parameter NodeLimit to value 1073741824\n",
      "Set parameter SolutionLimit to value 1073741824\n",
      "Set parameter IntFeasTol to value 1e-06\n",
      "Set parameter Method to value 3\n",
      "Gurobi Optimizer version 11.0.1 build v11.0.1rc0 (linux64 - \"Ubuntu 22.04.4 LTS\")\n",
      "\n",
      "CPU model: Intel(R) Core(TM) i7-4790 CPU @ 3.60GHz, instruction set [SSE2|AVX|AVX2]\n",
      "Thread count: 4 physical cores, 8 logical processors, using up to 8 threads\n",
      "\n",
      "Optimize a model with 310 rows, 573 columns and 1146 nonzeros\n",
      "Model fingerprint: 0x05a6271f\n",
      "Variable types: 0 continuous, 573 integer (470 binary)\n",
      "Coefficient statistics:\n",
      "  Matrix range     [8e-03, 4e+09]\n",
      "  Objective range  [2e-03, 1e+00]\n",
      "  Bounds range     [1e+00, 1e+00]\n",
      "  RHS range        [1e+00, 1e+00]\n",
      "Warning: Model contains large matrix coefficients\n",
      "         Consider reformulating model or setting NumericFocus parameter\n",
      "         to avoid numerical issues.\n",
      "Found heuristic solution: objective -20.0000000\n",
      "Presolve removed 306 rows and 565 columns\n",
      "Presolve time: 0.01s\n",
      "Presolved: 4 rows, 8 columns, 12 nonzeros\n",
      "Found heuristic solution: objective 58.0134454\n",
      "Variable types: 0 continuous, 8 integer (8 binary)\n",
      "\n",
      "Explored 0 nodes (0 simplex iterations) in 0.01 seconds (0.00 work units)\n",
      "Thread count was 8 (of 8 available processors)\n",
      "\n",
      "Solution count 2: 58.0134 -20 \n",
      "\n",
      "Optimal solution found (tolerance 1.00e-04)\n",
      "Best objective 5.801344537815e+01, best bound 5.801344537815e+01, gap 0.0000%\n"
     ]
    }
   ],
   "source": [
    "#   MIPSolver => python_mip repo: it includes two solvers: CBC and Gurobi\n",
    "#   ScipySolver => scipy.optimize.milp: it include HiGHS solvers\n",
    "\n",
    "# MIPSolver require conda environment and additional setup, so it not always avilable, you could use \n",
    "# ScipySolver instead\n",
    "from bactrack.tracking import MIPSolver, ScipySolver\n",
    "\n",
    "# do solver = ScipySolver(w.weight_matrix, hier_arr, mask_penalty= w.mask_penalty)\n",
    "# if you want include a mask_penalty calculated by omnipose/cellpose mask threshold + flow threshold\n",
    "solver = MIPSolver(w.weight_matrix, hier_arr)\n",
    "\n",
    "# n is a list of all selected segementation\n",
    "# e is a scipy sparse matrix mark the edge be selected\n",
    "n, e = solver.solve()"
   ]
  },
  {
   "cell_type": "code",
   "execution_count": 13,
   "id": "b4f7fd60-7fac-4e7e-b108-efe3561377e5",
   "metadata": {},
   "outputs": [],
   "source": [
    "from bactrack import io\n",
    "# m is a mask array including all output masks\n",
    "# e is a edge dataframe\n",
    "# also selected cell in  hier_arr be marked in this function\n",
    "m, e = io.format_output(hier_arr, n, e,overwrite_mask = False)\n",
    "# now n is  a node dataframe\n",
    "n = io.hiers_to_df(hier_arr)"
   ]
  },
  {
   "cell_type": "code",
   "execution_count": 14,
   "id": "d459cd58-9f73-4492-9119-55ca7afe5882",
   "metadata": {},
   "outputs": [],
   "source": [
    "# merge\n",
    "import pandas as pd\n",
    "\n",
    "merged_df = pd.merge(e, n.add_suffix('_source'), left_on='Source Index', right_on='index_source', how='left')\n",
    "merged_df = pd.merge(merged_df, n.add_suffix('_target'), left_on='Target Index', right_on='index_target', how='left')"
   ]
  },
  {
   "cell_type": "code",
   "execution_count": 16,
   "id": "efcca5fc-54b7-4a33-a9b8-97c78399d536",
   "metadata": {},
   "outputs": [],
   "source": [
    "# export links to csv\n",
    "import os\n",
    "\n",
    "xydir = os.path.abspath(os.path.join(mask_dir, os.pardir)) #get xydir path\n",
    "bactrackdir = os.path.join(xydir, \"bactrackfiles\")\n",
    "os.makedirs(bactrackdir, exist_ok=True)  #make dir in xydir for bactrack file\n",
    "merged_df.to_csv(os.path.join(bactrackdir, \"mergedlinks.csv\")) #save full merged links file \n",
    "# selected_df = merged_df[['frame_source','label_source', 'frame_target', 'label_target']]\n",
    "selected_df = merged_df[['frame_source','label_source', 'label_target','area_source','area_target']]\n",
    "selected_df.to_csv(os.path.join(bactrackdir, \"superseggerlinks.csv\")) #save links file relevant for supersegger"
   ]
  }
 ],
 "metadata": {
  "kernelspec": {
   "display_name": "Python 3 (ipykernel)",
   "language": "python",
   "name": "python3"
  },
  "language_info": {
   "codemirror_mode": {
    "name": "ipython",
    "version": 3
   },
   "file_extension": ".py",
   "mimetype": "text/x-python",
   "name": "python",
   "nbconvert_exporter": "python",
   "pygments_lexer": "ipython3",
   "version": "3.10.0"
  }
 },
 "nbformat": 4,
 "nbformat_minor": 5
}
