{
 "cells": [
  {
   "cell_type": "markdown",
   "id": "ebd728db-efe4-45fc-85c8-8f86a62c4906",
   "metadata": {},
   "source": [
    "## Example notebook to generate bactrack links for SuperSegger2 using SciPy solver"
   ]
  },
  {
   "cell_type": "code",
   "execution_count": 1,
   "id": "e27d4ac0-ad9a-4993-ad1b-ba0771439c03",
   "metadata": {},
   "outputs": [
    {
     "name": "stdout",
     "output_type": "stream",
     "text": [
      "2024-04-10 15:16:20,442 [INFO] TORCH GPU version not installed/working.\n",
      "2024-04-10 15:16:20,443 [INFO] >>bact_phase_omni<< model set to be used\n",
      "2024-04-10 15:16:20,444 [INFO] >>>> using CPU\n"
     ]
    },
    {
     "data": {
      "application/vnd.jupyter.widget-view+json": {
       "model_id": "5501fa5b77fe4aad97fda26c6aee163f",
       "version_major": 2,
       "version_minor": 0
      },
      "text/plain": [
       "  0%|          | 0/31 [00:00<?, ?it/s]"
      ]
     },
     "metadata": {},
     "output_type": "display_data"
    },
    {
     "name": "stdout",
     "output_type": "stream",
     "text": [
      "2024-04-10 15:16:20,860 [INFO] Running on tiles. Now normalizing each tile separately.\n",
      "2024-04-10 15:16:21,552 [INFO] Running on tiles. Now normalizing each tile separately.\n",
      "2024-04-10 15:16:21,893 [INFO] Running on tiles. Now normalizing each tile separately.\n",
      "2024-04-10 15:16:22,213 [INFO] Running on tiles. Now normalizing each tile separately.\n",
      "2024-04-10 15:16:22,537 [INFO] Running on tiles. Now normalizing each tile separately.\n",
      "2024-04-10 15:16:23,066 [INFO] Running on tiles. Now normalizing each tile separately.\n",
      "2024-04-10 15:16:23,478 [INFO] Running on tiles. Now normalizing each tile separately.\n",
      "2024-04-10 15:16:23,822 [INFO] Running on tiles. Now normalizing each tile separately.\n",
      "2024-04-10 15:16:24,209 [INFO] Running on tiles. Now normalizing each tile separately.\n",
      "2024-04-10 15:16:24,578 [INFO] Running on tiles. Now normalizing each tile separately.\n",
      "2024-04-10 15:16:24,922 [INFO] Running on tiles. Now normalizing each tile separately.\n",
      "2024-04-10 15:16:25,330 [INFO] Running on tiles. Now normalizing each tile separately.\n",
      "2024-04-10 15:16:25,695 [INFO] Running on tiles. Now normalizing each tile separately.\n",
      "2024-04-10 15:16:26,123 [INFO] Running on tiles. Now normalizing each tile separately.\n",
      "2024-04-10 15:16:26,492 [INFO] Running on tiles. Now normalizing each tile separately.\n",
      "2024-04-10 15:16:26,816 [INFO] Running on tiles. Now normalizing each tile separately.\n",
      "2024-04-10 15:16:27,147 [INFO] Running on tiles. Now normalizing each tile separately.\n",
      "2024-04-10 15:16:27,557 [INFO] Running on tiles. Now normalizing each tile separately.\n",
      "2024-04-10 15:16:27,984 [INFO] Running on tiles. Now normalizing each tile separately.\n",
      "2024-04-10 15:16:28,311 [INFO] Running on tiles. Now normalizing each tile separately.\n",
      "2024-04-10 15:16:28,657 [INFO] Running on tiles. Now normalizing each tile separately.\n",
      "2024-04-10 15:16:29,049 [INFO] Running on tiles. Now normalizing each tile separately.\n",
      "2024-04-10 15:16:29,558 [INFO] Running on tiles. Now normalizing each tile separately.\n",
      "2024-04-10 15:16:29,960 [INFO] Running on tiles. Now normalizing each tile separately.\n",
      "2024-04-10 15:16:30,349 [INFO] Running on tiles. Now normalizing each tile separately.\n",
      "2024-04-10 15:16:30,743 [INFO] Running on tiles. Now normalizing each tile separately.\n",
      "2024-04-10 15:16:31,079 [INFO] Running on tiles. Now normalizing each tile separately.\n",
      "2024-04-10 15:16:31,439 [INFO] Running on tiles. Now normalizing each tile separately.\n",
      "2024-04-10 15:16:31,807 [INFO] Running on tiles. Now normalizing each tile separately.\n",
      "2024-04-10 15:16:32,205 [INFO] Running on tiles. Now normalizing each tile separately.\n",
      "2024-04-10 15:16:32,558 [INFO] Running on tiles. Now normalizing each tile separately.\n",
      "2024-04-10 15:16:32,843 [INFO] Segmentation: predicting fields finish.\n"
     ]
    },
    {
     "name": "stderr",
     "output_type": "stream",
     "text": [
      "100%|███████████████████████████████████████████| 31/31 [00:02<00:00, 15.19it/s]"
     ]
    },
    {
     "name": "stdout",
     "output_type": "stream",
     "text": [
      "2024-04-10 15:16:34,886 [INFO] Segmentation hierarchy builded.\n",
      "2024-04-10 15:16:34,922 [INFO] Labeled feature of each segmentation in hierarchy.\n"
     ]
    },
    {
     "name": "stderr",
     "output_type": "stream",
     "text": [
      "\n"
     ]
    }
   ],
   "source": [
    "from bactrack.core import compute_hierarchy\n",
    "dir_phase = \"/home/tlo/Documents/Data/bactrack_test2/xy0/phase/\"\n",
    "# chose hypermodel between Cellpose and Omnipose\n",
    "# chose submodel under instruction of hypermodel\n",
    "hier_arr = compute_hierarchy(dir_phase, submodel= 'bact_phase_omni')\n",
    "\n",
    "#from bactrack.core import ModelEnum\n",
    "\n",
    "# hypermodel = ModelEnum.OMNIPOSE\n",
    "# hier_arr = compute_hierarchy(dir,hypermodel, submodel= 'bact_phase_omni')"
   ]
  },
  {
   "cell_type": "code",
   "execution_count": 2,
   "id": "0ecc4891-7ad4-49ef-a619-f5555099826e",
   "metadata": {},
   "outputs": [
    {
     "name": "stdout",
     "output_type": "stream",
     "text": [
      "2024-04-10 15:16:34,931 [INFO] Weight function start computing weight matrix\n",
      "2024-04-10 15:16:34,964 [INFO] Weight matrix computed, time consuming:0.032939910888671875 sec\n"
     ]
    }
   ],
   "source": [
    "from bactrack.tracking import OverlapWeight, IOUWeight, DistanceWeight\n",
    "w =  DistanceWeight(hier_arr)"
   ]
  },
  {
   "cell_type": "code",
   "execution_count": 3,
   "id": "6136c34b-1ff1-426e-988e-8f36f8c065dc",
   "metadata": {},
   "outputs": [],
   "source": [
    "#   MIPSolver => python_mip repo: it includes two solvers: CBC and Gurobi\n",
    "#   ScipySolver => scipy.optimize.milp: it include HiGHS solvers\n",
    "\n",
    "# MIPSolver require conda environment and additional setup, so it not always avilable, you could use \n",
    "# ScipySolver instead\n",
    "from bactrack.tracking import MIPSolver, ScipySolver\n",
    "\n",
    "# do solver = ScipySolver(w.weight_matrix, hier_arr, mask_penalty= w.mask_penalty)\n",
    "# if you want include a mask_penalty calculated by omnipose/cellpose mask threshold + flow threshold\n",
    "solver = ScipySolver(w.weight_matrix, hier_arr)\n",
    "\n",
    "# n is a list of all selected segementation\n",
    "# e is a scipy sparse matrix mark the edge be selected\n",
    "n, e = solver.solve()"
   ]
  },
  {
   "cell_type": "code",
   "execution_count": 4,
   "id": "b4f7fd60-7fac-4e7e-b108-efe3561377e5",
   "metadata": {},
   "outputs": [],
   "source": [
    "from bactrack import io\n",
    "# m is a mask array including all output masks\n",
    "# e is a edge dataframe\n",
    "# also selected cell in  hier_arr be marked in this function\n",
    "m, e = io.format_output(hier_arr, n, e)\n",
    "# now n is  a node dataframe\n",
    "n = io.hiers_to_df(hier_arr)"
   ]
  },
  {
   "cell_type": "code",
   "execution_count": 5,
   "id": "d459cd58-9f73-4492-9119-55ca7afe5882",
   "metadata": {},
   "outputs": [],
   "source": [
    "# merge\n",
    "import pandas as pd\n",
    "\n",
    "merged_df = pd.merge(e, n.add_suffix('_source'), left_on='Source Index', right_on='index_source', how='left')\n",
    "merged_df = pd.merge(merged_df, n.add_suffix('_target'), left_on='Target Index', right_on='index_target', how='left')"
   ]
  },
  {
   "cell_type": "code",
   "execution_count": 6,
   "id": "e0eba19b-adbc-4197-aea6-8d3264128bb1",
   "metadata": {},
   "outputs": [
    {
     "name": "stdout",
     "output_type": "stream",
     "text": [
      "     frame_source  label_source  frame_target  label_target\n",
      "0               0           1.0             1           2.0\n",
      "1               0           1.0             1           3.0\n",
      "2               0           2.0             1           1.0\n",
      "3               1           1.0             2           3.0\n",
      "4               1           1.0             2           1.0\n",
      "..            ...           ...           ...           ...\n",
      "129            29           1.0            30           5.0\n",
      "130            29           3.0            30           1.0\n",
      "131            29           3.0            30           2.0\n",
      "132            29           4.0            30           4.0\n",
      "133            29           4.0            30           3.0\n",
      "\n",
      "[134 rows x 4 columns]\n"
     ]
    }
   ],
   "source": [
    "selected_df = merged_df[['frame_source','label_source', 'frame_target', 'label_target']]\n",
    "print(selected_df)"
   ]
  },
  {
   "cell_type": "code",
   "execution_count": 7,
   "id": "efcca5fc-54b7-4a33-a9b8-97c78399d536",
   "metadata": {},
   "outputs": [],
   "source": [
    "# export links to csv\n",
    "import os\n",
    "\n",
    "xydir = os.path.abspath(os.path.join(dir_phase, os.pardir)) #get xydir path\n",
    "bactrackdir = os.path.join(xydir, \"bactrackfiles\")\n",
    "os.makedirs(bactrackdir, exist_ok=True)  #make dir in xydir for bactrack file\n",
    "merged_df.to_csv(os.path.join(bactrackdir, \"mergedlinks.csv\")) #save full merged links file \n",
    "selected_df = merged_df[['frame_source','label_source', 'frame_target', 'label_target']]\n",
    "selected_df.to_csv(os.path.join(bactrackdir, \"superseggerlinks.csv\")) #save links file relevant for supersegger"
   ]
  },
  {
   "cell_type": "code",
   "execution_count": 8,
   "id": "44fef759-643c-47e9-95fa-0ff1422b424b",
   "metadata": {},
   "outputs": [],
   "source": [
    "# export bactrack masks\n",
    "\n",
    "maskdir = os.path.join(xydir,\"bactrackmasks\")\n",
    "os.makedirs(maskdir, exist_ok=True)  #make dir for bactrack file\n",
    "\n",
    "\n",
    "\n",
    "io.store_mask_arr(m, maskdir)"
   ]
  }
 ],
 "metadata": {
  "kernelspec": {
   "display_name": "Python 3 (ipykernel)",
   "language": "python",
   "name": "python3"
  },
  "language_info": {
   "codemirror_mode": {
    "name": "ipython",
    "version": 3
   },
   "file_extension": ".py",
   "mimetype": "text/x-python",
   "name": "python",
   "nbconvert_exporter": "python",
   "pygments_lexer": "ipython3",
   "version": "3.10.0"
  }
 },
 "nbformat": 4,
 "nbformat_minor": 5
}
