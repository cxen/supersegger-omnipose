{
 "cells": [
  {
   "cell_type": "markdown",
   "id": "ebd728db-efe4-45fc-85c8-8f86a62c4906",
   "metadata": {},
   "source": [
    "## Example notebook to generate bactrack links for SuperSegger2 using Gurobi solver"
   ]
  },
  {
   "cell_type": "code",
   "execution_count": 1,
   "id": "e27d4ac0-ad9a-4993-ad1b-ba0771439c03",
   "metadata": {},
   "outputs": [
    {
     "name": "stdout",
     "output_type": "stream",
     "text": [
      "2024-04-10 15:17:55,193 [INFO] TORCH GPU version not installed/working.\n",
      "2024-04-10 15:17:55,194 [INFO] >>bact_phase_omni<< model set to be used\n",
      "2024-04-10 15:17:55,195 [INFO] >>>> using CPU\n"
     ]
    },
    {
     "data": {
      "application/vnd.jupyter.widget-view+json": {
       "model_id": "dccf615f533f425290a125b8d5fd28b1",
       "version_major": 2,
       "version_minor": 0
      },
      "text/plain": [
       "  0%|          | 0/31 [00:00<?, ?it/s]"
      ]
     },
     "metadata": {},
     "output_type": "display_data"
    },
    {
     "name": "stdout",
     "output_type": "stream",
     "text": [
      "2024-04-10 15:17:55,487 [INFO] Running on tiles. Now normalizing each tile separately.\n",
      "2024-04-10 15:17:55,903 [INFO] Running on tiles. Now normalizing each tile separately.\n",
      "2024-04-10 15:17:56,241 [INFO] Running on tiles. Now normalizing each tile separately.\n",
      "2024-04-10 15:17:56,821 [INFO] Running on tiles. Now normalizing each tile separately.\n",
      "2024-04-10 15:17:57,223 [INFO] Running on tiles. Now normalizing each tile separately.\n",
      "2024-04-10 15:17:57,618 [INFO] Running on tiles. Now normalizing each tile separately.\n",
      "2024-04-10 15:17:57,949 [INFO] Running on tiles. Now normalizing each tile separately.\n",
      "2024-04-10 15:17:58,323 [INFO] Running on tiles. Now normalizing each tile separately.\n",
      "2024-04-10 15:17:58,688 [INFO] Running on tiles. Now normalizing each tile separately.\n",
      "2024-04-10 15:17:59,011 [INFO] Running on tiles. Now normalizing each tile separately.\n",
      "2024-04-10 15:17:59,352 [INFO] Running on tiles. Now normalizing each tile separately.\n",
      "2024-04-10 15:17:59,678 [INFO] Running on tiles. Now normalizing each tile separately.\n",
      "2024-04-10 15:18:00,009 [INFO] Running on tiles. Now normalizing each tile separately.\n",
      "2024-04-10 15:18:00,353 [INFO] Running on tiles. Now normalizing each tile separately.\n",
      "2024-04-10 15:18:00,802 [INFO] Running on tiles. Now normalizing each tile separately.\n",
      "2024-04-10 15:18:01,203 [INFO] Running on tiles. Now normalizing each tile separately.\n",
      "2024-04-10 15:18:01,548 [INFO] Running on tiles. Now normalizing each tile separately.\n",
      "2024-04-10 15:18:01,869 [INFO] Running on tiles. Now normalizing each tile separately.\n",
      "2024-04-10 15:18:02,228 [INFO] Running on tiles. Now normalizing each tile separately.\n",
      "2024-04-10 15:18:02,565 [INFO] Running on tiles. Now normalizing each tile separately.\n",
      "2024-04-10 15:18:02,893 [INFO] Running on tiles. Now normalizing each tile separately.\n",
      "2024-04-10 15:18:03,233 [INFO] Running on tiles. Now normalizing each tile separately.\n",
      "2024-04-10 15:18:03,592 [INFO] Running on tiles. Now normalizing each tile separately.\n",
      "2024-04-10 15:18:04,058 [INFO] Running on tiles. Now normalizing each tile separately.\n",
      "2024-04-10 15:18:04,412 [INFO] Running on tiles. Now normalizing each tile separately.\n",
      "2024-04-10 15:18:04,733 [INFO] Running on tiles. Now normalizing each tile separately.\n",
      "2024-04-10 15:18:05,058 [INFO] Running on tiles. Now normalizing each tile separately.\n",
      "2024-04-10 15:18:05,378 [INFO] Running on tiles. Now normalizing each tile separately.\n",
      "2024-04-10 15:18:05,700 [INFO] Running on tiles. Now normalizing each tile separately.\n",
      "2024-04-10 15:18:06,040 [INFO] Running on tiles. Now normalizing each tile separately.\n",
      "2024-04-10 15:18:06,419 [INFO] Running on tiles. Now normalizing each tile separately.\n",
      "2024-04-10 15:18:06,678 [INFO] Segmentation: predicting fields finish.\n"
     ]
    },
    {
     "name": "stderr",
     "output_type": "stream",
     "text": [
      "100%|███████████████████████████████████████████| 31/31 [00:01<00:00, 15.56it/s]"
     ]
    },
    {
     "name": "stdout",
     "output_type": "stream",
     "text": [
      "2024-04-10 15:18:08,673 [INFO] Segmentation hierarchy builded.\n",
      "2024-04-10 15:18:08,713 [INFO] Labeled feature of each segmentation in hierarchy.\n"
     ]
    },
    {
     "name": "stderr",
     "output_type": "stream",
     "text": [
      "\n"
     ]
    }
   ],
   "source": [
    "from bactrack.core import compute_hierarchy\n",
    "dir_phase = \"/home/tlo/Documents/Data/bactrack_test2/xy0/phase/\"\n",
    "# chose hypermodel between Cellpose and Omnipose\n",
    "# chose submodel under instruction of hypermodel\n",
    "hier_arr = compute_hierarchy(dir_phase, submodel= 'bact_phase_omni')\n",
    "\n",
    "#from bactrack.core import ModelEnum\n",
    "\n",
    "# hypermodel = ModelEnum.OMNIPOSE\n",
    "# hier_arr = compute_hierarchy(dir,hypermodel, submodel= 'bact_phase_omni')"
   ]
  },
  {
   "cell_type": "code",
   "execution_count": 2,
   "id": "0ecc4891-7ad4-49ef-a619-f5555099826e",
   "metadata": {},
   "outputs": [
    {
     "name": "stdout",
     "output_type": "stream",
     "text": [
      "2024-04-10 15:18:08,728 [INFO] Weight function start computing weight matrix\n",
      "2024-04-10 15:18:08,770 [INFO] Weight matrix computed, time consuming:0.04205918312072754 sec\n"
     ]
    }
   ],
   "source": [
    "from bactrack.tracking import OverlapWeight, IOUWeight, DistanceWeight\n",
    "w =  DistanceWeight(hier_arr)"
   ]
  },
  {
   "cell_type": "code",
   "execution_count": 3,
   "id": "6136c34b-1ff1-426e-988e-8f36f8c065dc",
   "metadata": {},
   "outputs": [
    {
     "name": "stdout",
     "output_type": "stream",
     "text": [
      "Set parameter Username\n",
      "Academic license - for non-commercial use only - expires 2025-03-12\n",
      "2024-04-10 15:18:08,863 [INFO] Setting up MIP problem\n",
      "2024-04-10 15:18:08,891 [INFO] MIP problem set up: time used 0.02681565284729004 sec\n",
      "Set parameter NodeLimit to value 1073741824\n",
      "Set parameter SolutionLimit to value 1073741824\n",
      "Set parameter IntFeasTol to value 1e-06\n",
      "Set parameter Method to value 3\n",
      "Gurobi Optimizer version 11.0.1 build v11.0.1rc0 (linux64 - \"Ubuntu 22.04.4 LTS\")\n",
      "\n",
      "CPU model: Intel(R) Core(TM) i7-4790 CPU @ 3.60GHz, instruction set [SSE2|AVX|AVX2]\n",
      "Thread count: 4 physical cores, 8 logical processors, using up to 8 threads\n",
      "\n",
      "Optimize a model with 628 rows, 1503 columns and 3204 nonzeros\n",
      "Model fingerprint: 0xb934f3e3\n",
      "Variable types: 0 continuous, 1503 integer (1327 binary)\n",
      "Coefficient statistics:\n",
      "  Matrix range     [2e-03, 4e+09]\n",
      "  Objective range  [5e-04, 1e+00]\n",
      "  Bounds range     [1e+00, 1e+00]\n",
      "  RHS range        [1e+00, 1e+00]\n",
      "Warning: Model contains large matrix coefficient range\n",
      "         Consider reformulating model or setting NumericFocus parameter\n",
      "         to avoid numerical issues.\n",
      "Presolve removed 47 rows and 186 columns\n",
      "Presolve time: 0.01s\n",
      "Presolved: 581 rows, 1317 columns, 2954 nonzeros\n",
      "Variable types: 0 continuous, 1317 integer (1317 binary)\n",
      "Found heuristic solution: objective 33.0138202\n",
      "Concurrent LP optimizer: dual simplex and barrier\n",
      "Showing barrier log only...\n",
      "\n",
      "Root barrier log...\n",
      "\n",
      "Ordering time: 0.00s\n",
      "\n",
      "Barrier statistics:\n",
      " AA' NZ     : 2.387e+03\n",
      " Factor NZ  : 8.070e+03 (roughly 1 MB of memory)\n",
      " Factor Ops : 1.235e+05 (less than 1 second per iteration)\n",
      " Threads    : 1\n",
      "\n",
      "Barrier performed 0 iterations in 0.01 seconds (0.01 work units)\n",
      "Barrier solve interrupted - model solved by another algorithm\n",
      "\n",
      "\n",
      "Solved with dual simplex\n",
      "\n",
      "Root relaxation: objective 5.884302e+01, 404 iterations, 0.00 seconds (0.00 work units)\n",
      "\n",
      "    Nodes    |    Current Node    |     Objective Bounds      |     Work\n",
      " Expl Unexpl |  Obj  Depth IntInf | Incumbent    BestBd   Gap | It/Node Time\n",
      "\n",
      "     0     0   58.84302    0   32   33.01382   58.84302  78.2%     -    0s\n",
      "H    0     0                      58.0513130   58.84302  1.36%     -    0s\n",
      "H    0     0                      58.2787070   58.84302  0.97%     -    0s\n",
      "H    0     0                      58.5865224   58.84302  0.44%     -    0s\n",
      "H    0     0                      58.7066905   58.84302  0.23%     -    0s\n",
      "     0     0     cutoff    0        58.70669   58.70669  0.00%     -    0s\n",
      "\n",
      "Cutting planes:\n",
      "  Gomory: 2\n",
      "  Clique: 4\n",
      "  Zero half: 3\n",
      "  PSD: 1\n",
      "\n",
      "Explored 1 nodes (409 simplex iterations) in 0.03 seconds (0.01 work units)\n",
      "Thread count was 8 (of 8 available processors)\n",
      "\n",
      "Solution count 5: 58.7067 58.5865 58.2787 ... 33.0138\n",
      "\n",
      "Optimal solution found (tolerance 1.00e-04)\n",
      "Best objective 5.870669048748e+01, best bound 5.870669048748e+01, gap 0.0000%\n"
     ]
    }
   ],
   "source": [
    "#   MIPSolver => python_mip repo: it includes two solvers: CBC and Gurobi\n",
    "#   ScipySolver => scipy.optimize.milp: it include HiGHS solvers\n",
    "\n",
    "# MIPSolver require conda environment and additional setup, so it not always avilable, you could use \n",
    "# ScipySolver instead\n",
    "from bactrack.tracking import MIPSolver, ScipySolver\n",
    "\n",
    "# do solver = ScipySolver(w.weight_matrix, hier_arr, mask_penalty= w.mask_penalty)\n",
    "# if you want include a mask_penalty calculated by omnipose/cellpose mask threshold + flow threshold\n",
    "solver = MIPSolver(w.weight_matrix, hier_arr)\n",
    "\n",
    "# n is a list of all selected segementation\n",
    "# e is a scipy sparse matrix mark the edge be selected\n",
    "n, e = solver.solve()"
   ]
  },
  {
   "cell_type": "code",
   "execution_count": 4,
   "id": "b4f7fd60-7fac-4e7e-b108-efe3561377e5",
   "metadata": {},
   "outputs": [],
   "source": [
    "from bactrack import io\n",
    "# m is a mask array including all output masks\n",
    "# e is a edge dataframe\n",
    "# also selected cell in  hier_arr be marked in this function\n",
    "m, e = io.format_output(hier_arr, n, e)\n",
    "# now n is  a node dataframe\n",
    "n = io.hiers_to_df(hier_arr)"
   ]
  },
  {
   "cell_type": "code",
   "execution_count": 5,
   "id": "d459cd58-9f73-4492-9119-55ca7afe5882",
   "metadata": {},
   "outputs": [],
   "source": [
    "# merge\n",
    "import pandas as pd\n",
    "\n",
    "merged_df = pd.merge(e, n.add_suffix('_source'), left_on='Source Index', right_on='index_source', how='left')\n",
    "merged_df = pd.merge(merged_df, n.add_suffix('_target'), left_on='Target Index', right_on='index_target', how='left')"
   ]
  },
  {
   "cell_type": "code",
   "execution_count": 6,
   "id": "e0eba19b-adbc-4197-aea6-8d3264128bb1",
   "metadata": {},
   "outputs": [
    {
     "name": "stdout",
     "output_type": "stream",
     "text": [
      "     frame_source  label_source  frame_target  label_target\n",
      "0               0           1.0             1           2.0\n",
      "1               0           3.0             1           1.0\n",
      "2               0           3.0             1           3.0\n",
      "3               1           1.0             2           1.0\n",
      "4               1           2.0             2           2.0\n",
      "..            ...           ...           ...           ...\n",
      "129            29           2.0            30           1.0\n",
      "130            29           2.0            30           4.0\n",
      "131            29           3.0            30           5.0\n",
      "132            29           4.0            30           2.0\n",
      "133            29           4.0            30           3.0\n",
      "\n",
      "[134 rows x 4 columns]\n"
     ]
    }
   ],
   "source": [
    "selected_df = merged_df[['frame_source','label_source', 'frame_target', 'label_target']]\n",
    "print(selected_df)"
   ]
  },
  {
   "cell_type": "code",
   "execution_count": 7,
   "id": "efcca5fc-54b7-4a33-a9b8-97c78399d536",
   "metadata": {},
   "outputs": [],
   "source": [
    "# export links to csv\n",
    "import os\n",
    "\n",
    "xydir = os.path.abspath(os.path.join(dir_phase, os.pardir)) #get xydir path\n",
    "bactrackdir = os.path.join(xydir, \"bactrackfiles\")\n",
    "os.makedirs(bactrackdir, exist_ok=True)  #make dir in xydir for bactrack file\n",
    "merged_df.to_csv(os.path.join(bactrackdir, \"mergedlinks.csv\")) #save full merged links file \n",
    "selected_df = merged_df[['frame_source','label_source', 'frame_target', 'label_target']]\n",
    "selected_df.to_csv(os.path.join(bactrackdir, \"superseggerlinks.csv\")) #save links file relevant for supersegger"
   ]
  },
  {
   "cell_type": "code",
   "execution_count": 8,
   "id": "44fef759-643c-47e9-95fa-0ff1422b424b",
   "metadata": {},
   "outputs": [],
   "source": [
    "# export bactrack masks\n",
    "\n",
    "maskdir = os.path.join(xydir,\"bactrackmasks\")\n",
    "os.makedirs(maskdir, exist_ok=True)  #make dir for bactrack file\n",
    "\n",
    "\n",
    "\n",
    "io.store_mask_arr(m, maskdir)"
   ]
  }
 ],
 "metadata": {
  "kernelspec": {
   "display_name": "Python 3 (ipykernel)",
   "language": "python",
   "name": "python3"
  },
  "language_info": {
   "codemirror_mode": {
    "name": "ipython",
    "version": 3
   },
   "file_extension": ".py",
   "mimetype": "text/x-python",
   "name": "python",
   "nbconvert_exporter": "python",
   "pygments_lexer": "ipython3",
   "version": "3.10.0"
  }
 },
 "nbformat": 4,
 "nbformat_minor": 5
}
