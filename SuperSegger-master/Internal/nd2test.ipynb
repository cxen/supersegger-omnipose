{
 "cells": [
  {
   "cell_type": "markdown",
   "metadata": {},
   "source": [
    "## Convert nd2 to tiff - OmniSegger"
   ]
  },
  {
   "cell_type": "code",
   "execution_count": 5,
   "metadata": {},
   "outputs": [
    {
     "name": "stdout",
     "output_type": "stream",
     "text": [
      "Collecting bioformats_jar\n",
      "  Downloading bioformats_jar-2020.5.27-py3-none-any.whl.metadata (2.8 kB)\n",
      "Requirement already satisfied: aicsimageio[nd2] in c:\\users\\teres\\miniconda3\\envs\\bactrack\\lib\\site-packages (4.14.0)\n",
      "Requirement already satisfied: dask>=2021.4.1 in c:\\users\\teres\\miniconda3\\envs\\bactrack\\lib\\site-packages (from dask[array]>=2021.4.1->aicsimageio[nd2]) (2024.5.2)\n",
      "Requirement already satisfied: fsspec<2023.9.0,>=2022.8.0 in c:\\users\\teres\\miniconda3\\envs\\bactrack\\lib\\site-packages (from aicsimageio[nd2]) (2023.6.0)\n",
      "Requirement already satisfied: imagecodecs>=2020.5.30 in c:\\users\\teres\\miniconda3\\envs\\bactrack\\lib\\site-packages (from aicsimageio[nd2]) (2024.6.1)\n",
      "Requirement already satisfied: lxml<5,>=4.6 in c:\\users\\teres\\miniconda3\\envs\\bactrack\\lib\\site-packages (from aicsimageio[nd2]) (4.9.4)\n",
      "Requirement already satisfied: numpy>=1.21.0 in c:\\users\\teres\\miniconda3\\envs\\bactrack\\lib\\site-packages (from aicsimageio[nd2]) (1.26.4)\n",
      "Requirement already satisfied: ome-types>=0.3.4 in c:\\users\\teres\\miniconda3\\envs\\bactrack\\lib\\site-packages (from aicsimageio[nd2]) (0.5.1.post1)\n",
      "Requirement already satisfied: ome-zarr>=0.6.1 in c:\\users\\teres\\miniconda3\\envs\\bactrack\\lib\\site-packages (from aicsimageio[nd2]) (0.9.0)\n",
      "Requirement already satisfied: PyYAML>=6.0 in c:\\users\\teres\\miniconda3\\envs\\bactrack\\lib\\site-packages (from aicsimageio[nd2]) (6.0.1)\n",
      "Requirement already satisfied: wrapt>=1.12 in c:\\users\\teres\\miniconda3\\envs\\bactrack\\lib\\site-packages (from aicsimageio[nd2]) (1.16.0)\n",
      "Requirement already satisfied: resource-backed-dask-array>=0.1.0 in c:\\users\\teres\\miniconda3\\envs\\bactrack\\lib\\site-packages (from aicsimageio[nd2]) (0.1.0)\n",
      "Requirement already satisfied: tifffile<2023.3.15,>=2021.8.30 in c:\\users\\teres\\miniconda3\\envs\\bactrack\\lib\\site-packages (from aicsimageio[nd2]) (2023.2.28)\n",
      "Requirement already satisfied: xarray>=0.16.1 in c:\\users\\teres\\miniconda3\\envs\\bactrack\\lib\\site-packages (from aicsimageio[nd2]) (2024.5.0)\n",
      "Requirement already satisfied: xmlschema in c:\\users\\teres\\miniconda3\\envs\\bactrack\\lib\\site-packages (from aicsimageio[nd2]) (3.3.1)\n",
      "Requirement already satisfied: zarr<2.16.0,>=2.6 in c:\\users\\teres\\miniconda3\\envs\\bactrack\\lib\\site-packages (from aicsimageio[nd2]) (2.15.0)\n",
      "Collecting nd2>=0.6.0 (from nd2[legacy]>=0.6.0; extra == \"nd2\"->aicsimageio[nd2])\n",
      "  Downloading nd2-0.10.1-py3-none-any.whl.metadata (25 kB)\n",
      "Collecting scyjava (from bioformats_jar)\n",
      "  Downloading scyjava-1.10.0-py3-none-any.whl.metadata (23 kB)\n",
      "Requirement already satisfied: click>=8.1 in c:\\users\\teres\\miniconda3\\envs\\bactrack\\lib\\site-packages (from dask>=2021.4.1->dask[array]>=2021.4.1->aicsimageio[nd2]) (8.1.7)\n",
      "Requirement already satisfied: cloudpickle>=1.5.0 in c:\\users\\teres\\miniconda3\\envs\\bactrack\\lib\\site-packages (from dask>=2021.4.1->dask[array]>=2021.4.1->aicsimageio[nd2]) (3.0.0)\n",
      "Requirement already satisfied: packaging>=20.0 in c:\\users\\teres\\miniconda3\\envs\\bactrack\\lib\\site-packages (from dask>=2021.4.1->dask[array]>=2021.4.1->aicsimageio[nd2]) (24.0)\n",
      "Requirement already satisfied: partd>=1.2.0 in c:\\users\\teres\\miniconda3\\envs\\bactrack\\lib\\site-packages (from dask>=2021.4.1->dask[array]>=2021.4.1->aicsimageio[nd2]) (1.4.2)\n",
      "Requirement already satisfied: toolz>=0.10.0 in c:\\users\\teres\\miniconda3\\envs\\bactrack\\lib\\site-packages (from dask>=2021.4.1->dask[array]>=2021.4.1->aicsimageio[nd2]) (0.12.1)\n",
      "Requirement already satisfied: importlib-metadata>=4.13.0 in c:\\users\\teres\\miniconda3\\envs\\bactrack\\lib\\site-packages (from dask>=2021.4.1->dask[array]>=2021.4.1->aicsimageio[nd2]) (7.1.0)\n",
      "Requirement already satisfied: typing-extensions in c:\\users\\teres\\miniconda3\\envs\\bactrack\\lib\\site-packages (from nd2>=0.6.0->nd2[legacy]>=0.6.0; extra == \"nd2\"->aicsimageio[nd2]) (4.12.2)\n",
      "Requirement already satisfied: pydantic-compat>=0.1.0 in c:\\users\\teres\\miniconda3\\envs\\bactrack\\lib\\site-packages (from ome-types>=0.3.4->aicsimageio[nd2]) (0.1.2)\n",
      "Requirement already satisfied: pydantic>=1.9.0 in c:\\users\\teres\\miniconda3\\envs\\bactrack\\lib\\site-packages (from ome-types>=0.3.4->aicsimageio[nd2]) (2.7.3)\n",
      "Requirement already satisfied: xsdata<24.4,>=23.6 in c:\\users\\teres\\miniconda3\\envs\\bactrack\\lib\\site-packages (from ome-types>=0.3.4->aicsimageio[nd2]) (24.3.1)\n",
      "Requirement already satisfied: aiohttp<4 in c:\\users\\teres\\miniconda3\\envs\\bactrack\\lib\\site-packages (from ome-zarr>=0.6.1->aicsimageio[nd2]) (3.9.5)\n",
      "Requirement already satisfied: distributed in c:\\users\\teres\\miniconda3\\envs\\bactrack\\lib\\site-packages (from ome-zarr>=0.6.1->aicsimageio[nd2]) (2024.5.2)\n",
      "Requirement already satisfied: requests in c:\\users\\teres\\miniconda3\\envs\\bactrack\\lib\\site-packages (from ome-zarr>=0.6.1->aicsimageio[nd2]) (2.32.3)\n",
      "Requirement already satisfied: scikit-image in c:\\users\\teres\\miniconda3\\envs\\bactrack\\lib\\site-packages (from ome-zarr>=0.6.1->aicsimageio[nd2]) (0.23.2)\n",
      "Requirement already satisfied: pandas>=2.0 in c:\\users\\teres\\miniconda3\\envs\\bactrack\\lib\\site-packages (from xarray>=0.16.1->aicsimageio[nd2]) (2.2.2)\n",
      "Requirement already satisfied: asciitree in c:\\users\\teres\\miniconda3\\envs\\bactrack\\lib\\site-packages (from zarr<2.16.0,>=2.6->aicsimageio[nd2]) (0.3.3)\n",
      "Requirement already satisfied: fasteners in c:\\users\\teres\\miniconda3\\envs\\bactrack\\lib\\site-packages (from zarr<2.16.0,>=2.6->aicsimageio[nd2]) (0.19)\n",
      "Requirement already satisfied: numcodecs>=0.10.0 in c:\\users\\teres\\miniconda3\\envs\\bactrack\\lib\\site-packages (from zarr<2.16.0,>=2.6->aicsimageio[nd2]) (0.12.1)\n",
      "Collecting jpype1>=1.3.0 (from scyjava->bioformats_jar)\n",
      "  Downloading JPype1-1.5.0-cp310-cp310-win_amd64.whl.metadata (5.0 kB)\n",
      "Collecting jgo (from scyjava->bioformats_jar)\n",
      "  Downloading jgo-1.0.6-py3-none-any.whl.metadata (12 kB)\n",
      "Requirement already satisfied: elementpath<5.0.0,>=4.4.0 in c:\\users\\teres\\miniconda3\\envs\\bactrack\\lib\\site-packages (from xmlschema->aicsimageio[nd2]) (4.4.0)\n",
      "Requirement already satisfied: aiosignal>=1.1.2 in c:\\users\\teres\\miniconda3\\envs\\bactrack\\lib\\site-packages (from aiohttp<4->ome-zarr>=0.6.1->aicsimageio[nd2]) (1.3.1)\n",
      "Requirement already satisfied: attrs>=17.3.0 in c:\\users\\teres\\miniconda3\\envs\\bactrack\\lib\\site-packages (from aiohttp<4->ome-zarr>=0.6.1->aicsimageio[nd2]) (23.2.0)\n",
      "Requirement already satisfied: frozenlist>=1.1.1 in c:\\users\\teres\\miniconda3\\envs\\bactrack\\lib\\site-packages (from aiohttp<4->ome-zarr>=0.6.1->aicsimageio[nd2]) (1.4.1)\n",
      "Requirement already satisfied: multidict<7.0,>=4.5 in c:\\users\\teres\\miniconda3\\envs\\bactrack\\lib\\site-packages (from aiohttp<4->ome-zarr>=0.6.1->aicsimageio[nd2]) (6.0.5)\n",
      "Requirement already satisfied: yarl<2.0,>=1.0 in c:\\users\\teres\\miniconda3\\envs\\bactrack\\lib\\site-packages (from aiohttp<4->ome-zarr>=0.6.1->aicsimageio[nd2]) (1.9.4)\n",
      "Requirement already satisfied: async-timeout<5.0,>=4.0 in c:\\users\\teres\\miniconda3\\envs\\bactrack\\lib\\site-packages (from aiohttp<4->ome-zarr>=0.6.1->aicsimageio[nd2]) (4.0.3)\n",
      "Requirement already satisfied: colorama in c:\\users\\teres\\miniconda3\\envs\\bactrack\\lib\\site-packages (from click>=8.1->dask>=2021.4.1->dask[array]>=2021.4.1->aicsimageio[nd2]) (0.4.6)\n",
      "Requirement already satisfied: s3fs in c:\\users\\teres\\miniconda3\\envs\\bactrack\\lib\\site-packages (from fsspec[s3]!=2021.07.0,>=0.8->ome-zarr>=0.6.1->aicsimageio[nd2]) (2023.6.0)\n",
      "Requirement already satisfied: zipp>=0.5 in c:\\users\\teres\\miniconda3\\envs\\bactrack\\lib\\site-packages (from importlib-metadata>=4.13.0->dask>=2021.4.1->dask[array]>=2021.4.1->aicsimageio[nd2]) (3.19.2)\n",
      "Requirement already satisfied: python-dateutil>=2.8.2 in c:\\users\\teres\\miniconda3\\envs\\bactrack\\lib\\site-packages (from pandas>=2.0->xarray>=0.16.1->aicsimageio[nd2]) (2.9.0)\n",
      "Requirement already satisfied: pytz>=2020.1 in c:\\users\\teres\\miniconda3\\envs\\bactrack\\lib\\site-packages (from pandas>=2.0->xarray>=0.16.1->aicsimageio[nd2]) (2024.1)\n",
      "Requirement already satisfied: tzdata>=2022.7 in c:\\users\\teres\\miniconda3\\envs\\bactrack\\lib\\site-packages (from pandas>=2.0->xarray>=0.16.1->aicsimageio[nd2]) (2024.1)\n",
      "Requirement already satisfied: locket in c:\\users\\teres\\miniconda3\\envs\\bactrack\\lib\\site-packages (from partd>=1.2.0->dask>=2021.4.1->dask[array]>=2021.4.1->aicsimageio[nd2]) (1.0.0)\n",
      "Requirement already satisfied: annotated-types>=0.4.0 in c:\\users\\teres\\miniconda3\\envs\\bactrack\\lib\\site-packages (from pydantic>=1.9.0->ome-types>=0.3.4->aicsimageio[nd2]) (0.7.0)\n",
      "Requirement already satisfied: pydantic-core==2.18.4 in c:\\users\\teres\\miniconda3\\envs\\bactrack\\lib\\site-packages (from pydantic>=1.9.0->ome-types>=0.3.4->aicsimageio[nd2]) (2.18.4)\n",
      "Requirement already satisfied: jinja2>=2.10.3 in c:\\users\\teres\\miniconda3\\envs\\bactrack\\lib\\site-packages (from distributed->ome-zarr>=0.6.1->aicsimageio[nd2]) (3.1.4)\n",
      "Requirement already satisfied: msgpack>=1.0.0 in c:\\users\\teres\\miniconda3\\envs\\bactrack\\lib\\site-packages (from distributed->ome-zarr>=0.6.1->aicsimageio[nd2]) (1.0.8)\n",
      "Requirement already satisfied: psutil>=5.7.2 in c:\\users\\teres\\miniconda3\\envs\\bactrack\\lib\\site-packages (from distributed->ome-zarr>=0.6.1->aicsimageio[nd2]) (5.9.8)\n",
      "Requirement already satisfied: sortedcontainers>=2.0.5 in c:\\users\\teres\\miniconda3\\envs\\bactrack\\lib\\site-packages (from distributed->ome-zarr>=0.6.1->aicsimageio[nd2]) (2.4.0)\n",
      "Requirement already satisfied: tblib>=1.6.0 in c:\\users\\teres\\miniconda3\\envs\\bactrack\\lib\\site-packages (from distributed->ome-zarr>=0.6.1->aicsimageio[nd2]) (3.0.0)\n",
      "Requirement already satisfied: tornado>=6.0.4 in c:\\users\\teres\\miniconda3\\envs\\bactrack\\lib\\site-packages (from distributed->ome-zarr>=0.6.1->aicsimageio[nd2]) (6.4.1)\n",
      "Requirement already satisfied: urllib3>=1.24.3 in c:\\users\\teres\\miniconda3\\envs\\bactrack\\lib\\site-packages (from distributed->ome-zarr>=0.6.1->aicsimageio[nd2]) (1.26.18)\n",
      "Requirement already satisfied: zict>=3.0.0 in c:\\users\\teres\\miniconda3\\envs\\bactrack\\lib\\site-packages (from distributed->ome-zarr>=0.6.1->aicsimageio[nd2]) (3.0.0)\n",
      "Requirement already satisfied: charset-normalizer<4,>=2 in c:\\users\\teres\\miniconda3\\envs\\bactrack\\lib\\site-packages (from requests->ome-zarr>=0.6.1->aicsimageio[nd2]) (3.3.2)\n",
      "Requirement already satisfied: idna<4,>=2.5 in c:\\users\\teres\\miniconda3\\envs\\bactrack\\lib\\site-packages (from requests->ome-zarr>=0.6.1->aicsimageio[nd2]) (3.7)\n",
      "Requirement already satisfied: certifi>=2017.4.17 in c:\\users\\teres\\miniconda3\\envs\\bactrack\\lib\\site-packages (from requests->ome-zarr>=0.6.1->aicsimageio[nd2]) (2024.8.30)\n",
      "Requirement already satisfied: scipy>=1.9 in c:\\users\\teres\\miniconda3\\envs\\bactrack\\lib\\site-packages (from scikit-image->ome-zarr>=0.6.1->aicsimageio[nd2]) (1.13.1)\n",
      "Requirement already satisfied: networkx>=2.8 in c:\\users\\teres\\miniconda3\\envs\\bactrack\\lib\\site-packages (from scikit-image->ome-zarr>=0.6.1->aicsimageio[nd2]) (3.3)\n",
      "Requirement already satisfied: pillow>=9.1 in c:\\users\\teres\\miniconda3\\envs\\bactrack\\lib\\site-packages (from scikit-image->ome-zarr>=0.6.1->aicsimageio[nd2]) (10.3.0)\n",
      "Requirement already satisfied: imageio>=2.33 in c:\\users\\teres\\miniconda3\\envs\\bactrack\\lib\\site-packages (from scikit-image->ome-zarr>=0.6.1->aicsimageio[nd2]) (2.34.1)\n",
      "Requirement already satisfied: lazy-loader>=0.4 in c:\\users\\teres\\miniconda3\\envs\\bactrack\\lib\\site-packages (from scikit-image->ome-zarr>=0.6.1->aicsimageio[nd2]) (0.4)\n",
      "Requirement already satisfied: MarkupSafe>=2.0 in c:\\users\\teres\\miniconda3\\envs\\bactrack\\lib\\site-packages (from jinja2>=2.10.3->distributed->ome-zarr>=0.6.1->aicsimageio[nd2]) (2.1.5)\n",
      "Requirement already satisfied: six>=1.5 in c:\\users\\teres\\miniconda3\\envs\\bactrack\\lib\\site-packages (from python-dateutil>=2.8.2->pandas>=2.0->xarray>=0.16.1->aicsimageio[nd2]) (1.16.0)\n",
      "Requirement already satisfied: aiobotocore~=2.5.0 in c:\\users\\teres\\miniconda3\\envs\\bactrack\\lib\\site-packages (from s3fs->fsspec[s3]!=2021.07.0,>=0.8->ome-zarr>=0.6.1->aicsimageio[nd2]) (2.5.4)\n",
      "Requirement already satisfied: botocore<1.31.18,>=1.31.17 in c:\\users\\teres\\miniconda3\\envs\\bactrack\\lib\\site-packages (from aiobotocore~=2.5.0->s3fs->fsspec[s3]!=2021.07.0,>=0.8->ome-zarr>=0.6.1->aicsimageio[nd2]) (1.31.17)\n",
      "Requirement already satisfied: aioitertools<1.0.0,>=0.5.1 in c:\\users\\teres\\miniconda3\\envs\\bactrack\\lib\\site-packages (from aiobotocore~=2.5.0->s3fs->fsspec[s3]!=2021.07.0,>=0.8->ome-zarr>=0.6.1->aicsimageio[nd2]) (0.11.0)\n",
      "Requirement already satisfied: jmespath<2.0.0,>=0.7.1 in c:\\users\\teres\\miniconda3\\envs\\bactrack\\lib\\site-packages (from botocore<1.31.18,>=1.31.17->aiobotocore~=2.5.0->s3fs->fsspec[s3]!=2021.07.0,>=0.8->ome-zarr>=0.6.1->aicsimageio[nd2]) (1.0.1)\n",
      "Downloading bioformats_jar-2020.5.27-py3-none-any.whl (10 kB)\n",
      "Downloading nd2-0.10.1-py3-none-any.whl (81 kB)\n",
      "   ---------------------------------------- 0.0/81.1 kB ? eta -:--:--\n",
      "   -------------------- ------------------- 41.0/81.1 kB 991.0 kB/s eta 0:00:01\n",
      "   ---------------------------------------- 81.1/81.1 kB 1.1 MB/s eta 0:00:00\n",
      "Downloading scyjava-1.10.0-py3-none-any.whl (31 kB)\n",
      "Downloading JPype1-1.5.0-cp310-cp310-win_amd64.whl (351 kB)\n",
      "   ---------------------------------------- 0.0/351.5 kB ? eta -:--:--\n",
      "   -------- ------------------------------- 71.7/351.5 kB 3.8 MB/s eta 0:00:01\n",
      "   ----------------------- ---------------- 204.8/351.5 kB 2.5 MB/s eta 0:00:01\n",
      "   ---------------------------------------- 351.5/351.5 kB 3.1 MB/s eta 0:00:00\n",
      "Downloading jgo-1.0.6-py3-none-any.whl (15 kB)\n",
      "Installing collected packages: jpype1, jgo, scyjava, bioformats_jar, nd2\n",
      "Successfully installed bioformats_jar-2020.5.27 jgo-1.0.6 jpype1-1.5.0 nd2-0.10.1 scyjava-1.10.0\n"
     ]
    }
   ],
   "source": [
    "!pip install aicsimageio[nd2] bioformats_jar"
   ]
  },
  {
   "cell_type": "code",
   "execution_count": 60,
   "metadata": {},
   "outputs": [],
   "source": [
    "from aicsimageio import AICSImage\n",
    "import platform\n",
    "\n",
    "# open the nd2 file\n",
    "\n",
    "input_path = \"C:\\\\Users\\\\teres\\\\Downloads\\\\200310_491E_5min_CiT594_002.nd2\"\n",
    "\n",
    "if platform.system() == \"Windows\":\n",
    "    input_path = r\"{}\".format(input_path)\n",
    "\n",
    "imgfile = AICSImage(input_path)\n",
    "\n"
   ]
  },
  {
   "cell_type": "code",
   "execution_count": 34,
   "metadata": {},
   "outputs": [
    {
     "name": "stdout",
     "output_type": "stream",
     "text": [
      "timepoints: 1 \n",
      "z-planes: 1 \n",
      "xy: 1 \n",
      "channels: 3 \n",
      "image size: (2160, 2560)\n"
     ]
    }
   ],
   "source": [
    "# detect number of channels, time points, xy, z stacks\n",
    "\n",
    "dims = imgfile.dims  # TCZYX\n",
    "\n",
    "numt = dims['T']\n",
    "numz = dims['Z']\n",
    "# numxy = dims['Y']\n",
    "numxy = len(imgfile.scenes)\n",
    "numc = dims['C']\n",
    "imsize = imgfile.shape[-2:]\n",
    "\n",
    "print('timepoints:', numt[0], '\\nz-planes:', numz[0],  '\\nxy:', numxy,  '\\nchannels:', numc[0], '\\nimage size:', imsize)\n"
   ]
  },
  {
   "cell_type": "code",
   "execution_count": 61,
   "metadata": {},
   "outputs": [],
   "source": [
    "# save as a tiff stack\n",
    "import os\n",
    "\n",
    "imgfile.save(f\"{os.path.splitext(input_path)[0]}.tiff\")\n",
    "# aicsimageio.writers.ome_tiff_writer(img, 'imgname.tif')\n",
    "\n"
   ]
  },
  {
   "cell_type": "code",
   "execution_count": 58,
   "metadata": {},
   "outputs": [],
   "source": [
    "# save metadata\n",
    "\n",
    "import os\n",
    "\n",
    "md = imgfile.metadata\n",
    "with open(f\"{os.path.splitext(input_path)[0]}_metadata.txt\", \"w\") as f:\n",
    "    f.write(str(md))\n",
    "f.close()"
   ]
  },
  {
   "cell_type": "code",
   "execution_count": 51,
   "metadata": {},
   "outputs": [],
   "source": [
    "from aicsimageio.writers import OmeTiffWriter\n",
    "import os\n",
    "\n",
    "# loop through each dim and save as individual tiff files\n",
    "# basename_t1xy1c1.tif naming format for OmniSegger\n",
    "\n",
    "# img  = imgfile.dask_data  # returns 5D TCZYX dask array\n",
    "\n",
    "# Pull only a specific chunk in-memory\n",
    "# lazy_t0 = img.get_image_dask_data(\"CZYX\", T=0)  # returns out-of-memory 4D dask array\n",
    "# t0 = lazy_t0.compute()  # returns in-memory 4D numpy array\n",
    "\n",
    "def itersavetiff(filepath, numt, numxy, numc, numz):\n",
    "    imgfile = AICSImage(filepath)\n",
    "    basename = os.path.splitext(filepath)[0]\n",
    "    if numz > 1:\n",
    "        for zz in range(numz):\n",
    "            zdir = os.path.join(os.path.dirname(filepath), f'z{zz}')\n",
    "            if not os.path.exists(zdir):\n",
    "                os.makedirs(zdir)\n",
    "            for xy in range(numxy):\n",
    "                imgfile.set_scene(xy)\n",
    "                for tt in range(numt):\n",
    "                    for cc in range(numc):\n",
    "                        # singimg = imgdata[tt, c, zz, :, :]\n",
    "                        singimg = imgfile.get_image_dask_data(\"YX\", T=tt, C=cc, Z=zz).compute()\n",
    "                        # save as tif, with t and c starting at 1 for OmniSegger\n",
    "                        OmeTiffWriter.save(singimg,os.path.join(zdir, f'{basename}_t{tt+1}xy{xy}c{cc+1}.tif'))\n",
    "    else:\n",
    "        for xy in range(numxy):\n",
    "            imgfile.set_scene(xy)\n",
    "            for tt in range(numt):\n",
    "                for cc in range(numc):\n",
    "                    # singimg = imgdata[tt, c, 0, :, :]\n",
    "                    singimg = imgfile.get_image_dask_data(\"YX\", T=tt, C=cc).compute()\n",
    "                    # save as tif, with t and c starting at 1 for OmniSegger\n",
    "                    OmeTiffWriter.save(singimg,os.path.join(os.path.dirname(filepath), f'{basename}_t{tt+1}xy{xy}c{cc+1}.tif'))\n",
    "\n",
    "# Example usage\n",
    "# itersavetiff(input_path, img, numt[0], numxy, numc[0], numz[0])"
   ]
  },
  {
   "cell_type": "code",
   "execution_count": 52,
   "metadata": {},
   "outputs": [],
   "source": [
    "itersavetiff(input_path, imgfile, numt[0], numxy, numc[0], numz[0])"
   ]
  }
 ],
 "metadata": {
  "kernelspec": {
   "display_name": "omnipose-track",
   "language": "python",
   "name": "python3"
  },
  "language_info": {
   "codemirror_mode": {
    "name": "ipython",
    "version": 3
   },
   "file_extension": ".py",
   "mimetype": "text/x-python",
   "name": "python",
   "nbconvert_exporter": "python",
   "pygments_lexer": "ipython3",
   "version": "3.10.14"
  }
 },
 "nbformat": 4,
 "nbformat_minor": 2
}
