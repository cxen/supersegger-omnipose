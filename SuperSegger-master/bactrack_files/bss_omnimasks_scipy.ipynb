{
 "cells": [
  {
   "cell_type": "markdown",
   "id": "a8d89c9f-ad61-4ef1-a052-0618dc914c81",
   "metadata": {},
   "source": [
    "### Example notebook to generate bactrack links from pre-existing masks (ie. Omnipose masks) using Scipy solver"
   ]
  },
  {
   "cell_type": "code",
   "execution_count": 15,
   "id": "e27d4ac0-ad9a-4993-ad1b-ba0771439c03",
   "metadata": {},
   "outputs": [],
   "source": [
    "from bactrack.widget import get_hierarchies_from_masks_folder\n",
    "mask_dir = \"/home/tlo/Documents/Data/bactrack_test4/xy0/masks\"\n",
    "hier_arr = get_hierarchies_from_masks_folder(mask_dir)"
   ]
  },
  {
   "cell_type": "code",
   "execution_count": 16,
   "id": "0ecc4891-7ad4-49ef-a619-f5555099826e",
   "metadata": {},
   "outputs": [
    {
     "name": "stdout",
     "output_type": "stream",
     "text": [
      "2024-04-12 13:25:43,936 [INFO] Weight function start computing weight matrix\n",
      "2024-04-12 13:25:43,956 [INFO] Weight matrix computed, time consuming:0.019055843353271484 sec\n"
     ]
    }
   ],
   "source": [
    "from bactrack.tracking import OverlapWeight, IOUWeight, DistanceWeight\n",
    "w =  OverlapWeight(hier_arr)"
   ]
  },
  {
   "cell_type": "code",
   "execution_count": 17,
   "id": "6136c34b-1ff1-426e-988e-8f36f8c065dc",
   "metadata": {},
   "outputs": [],
   "source": [
    "#   MIPSolver => python_mip repo: it includes two solvers: CBC and Gurobi\n",
    "#   ScipySolver => scipy.optimize.milp: it include HiGHS solvers\n",
    "\n",
    "# MIPSolver require conda environment and additional setup, so it not always avilable, you could use \n",
    "# ScipySolver instead\n",
    "from bactrack.tracking import MIPSolver, ScipySolver\n",
    "\n",
    "# do solver = ScipySolver(w.weight_matrix, hier_arr, mask_penalty= w.mask_penalty)\n",
    "# if you want include a mask_penalty calculated by omnipose/cellpose mask threshold + flow threshold\n",
    "solver = ScipySolver(w.weight_matrix, hier_arr)\n",
    "\n",
    "# n is a list of all selected segementation\n",
    "# e is a scipy sparse matrix mark the edge be selected\n",
    "n, e = solver.solve()"
   ]
  },
  {
   "cell_type": "code",
   "execution_count": 18,
   "id": "b4f7fd60-7fac-4e7e-b108-efe3561377e5",
   "metadata": {},
   "outputs": [],
   "source": [
    "from bactrack import io\n",
    "# m is a mask array including all output masks\n",
    "# e is a edge dataframe\n",
    "# also selected cell in  hier_arr be marked in this function\n",
    "m, e = io.format_output(hier_arr, n, e,overwrite_mask = False)\n",
    "# now n is  a node dataframe\n",
    "n = io.hiers_to_df(hier_arr)"
   ]
  },
  {
   "cell_type": "code",
   "execution_count": 19,
   "id": "d459cd58-9f73-4492-9119-55ca7afe5882",
   "metadata": {},
   "outputs": [],
   "source": [
    "# merge\n",
    "import pandas as pd\n",
    "\n",
    "merged_df = pd.merge(e, n.add_suffix('_source'), left_on='Source Index', right_on='index_source', how='left')\n",
    "merged_df = pd.merge(merged_df, n.add_suffix('_target'), left_on='Target Index', right_on='index_target', how='left')"
   ]
  },
  {
   "cell_type": "code",
   "execution_count": 20,
   "id": "efcca5fc-54b7-4a33-a9b8-97c78399d536",
   "metadata": {},
   "outputs": [],
   "source": [
    "# export links to csv\n",
    "import os\n",
    "\n",
    "xydir = os.path.abspath(os.path.join(mask_dir, os.pardir)) #get xydir path\n",
    "bactrackdir = os.path.join(xydir, \"bactrackfiles\")\n",
    "os.makedirs(bactrackdir, exist_ok=True)  #make dir in xydir for bactrack file\n",
    "merged_df.to_csv(os.path.join(bactrackdir, \"mergedlinks.csv\")) #save full merged links file \n",
    "\n",
    "selected_df = merged_df[['frame_source','label_source', 'label_target','area_source','area_target']]\n",
    "selected_df.to_csv(os.path.join(bactrackdir, \"superseggerlinks.csv\")) #save links file relevant for supersegger"
   ]
  }
 ],
 "metadata": {
  "kernelspec": {
   "display_name": "Python 3 (ipykernel)",
   "language": "python",
   "name": "python3"
  },
  "language_info": {
   "codemirror_mode": {
    "name": "ipython",
    "version": 3
   },
   "file_extension": ".py",
   "mimetype": "text/x-python",
   "name": "python",
   "nbconvert_exporter": "python",
   "pygments_lexer": "ipython3",
   "version": "3.10.0"
  }
 },
 "nbformat": 4,
 "nbformat_minor": 5
}
